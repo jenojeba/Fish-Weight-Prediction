{
 "cells": [
  {
   "cell_type": "code",
   "execution_count": 1,
   "id": "01521eec",
   "metadata": {
    "_cell_guid": "b1076dfc-b9ad-4769-8c92-a6c4dae69d19",
    "_uuid": "8f2839f25d086af736a60e9eeb907d3b93b6e0e5",
    "execution": {
     "iopub.execute_input": "2024-05-24T08:12:46.498369Z",
     "iopub.status.busy": "2024-05-24T08:12:46.497352Z",
     "iopub.status.idle": "2024-05-24T08:12:47.512187Z",
     "shell.execute_reply": "2024-05-24T08:12:47.510827Z"
    },
    "papermill": {
     "duration": 1.027518,
     "end_time": "2024-05-24T08:12:47.515775",
     "exception": false,
     "start_time": "2024-05-24T08:12:46.488257",
     "status": "completed"
    },
    "tags": []
   },
   "outputs": [],
   "source": [
    "import pandas as pd"
   ]
  },
  {
   "cell_type": "code",
   "execution_count": 2,
   "id": "200ac719",
   "metadata": {
    "execution": {
     "iopub.execute_input": "2024-05-24T08:12:47.530704Z",
     "iopub.status.busy": "2024-05-24T08:12:47.529602Z",
     "iopub.status.idle": "2024-05-24T08:12:47.554100Z",
     "shell.execute_reply": "2024-05-24T08:12:47.552724Z"
    },
    "papermill": {
     "duration": 0.035316,
     "end_time": "2024-05-24T08:12:47.557398",
     "exception": false,
     "start_time": "2024-05-24T08:12:47.522082",
     "status": "completed"
    },
    "tags": []
   },
   "outputs": [],
   "source": [
    "w=pd.read_csv('/kaggle/input/fish-weight-prediction-dataset/Fish.csv')"
   ]
  },
  {
   "cell_type": "code",
   "execution_count": 3,
   "id": "fc85c8a7",
   "metadata": {
    "execution": {
     "iopub.execute_input": "2024-05-24T08:12:47.572118Z",
     "iopub.status.busy": "2024-05-24T08:12:47.571221Z",
     "iopub.status.idle": "2024-05-24T08:12:47.603278Z",
     "shell.execute_reply": "2024-05-24T08:12:47.601989Z"
    },
    "papermill": {
     "duration": 0.042823,
     "end_time": "2024-05-24T08:12:47.606229",
     "exception": false,
     "start_time": "2024-05-24T08:12:47.563406",
     "status": "completed"
    },
    "tags": []
   },
   "outputs": [
    {
     "data": {
      "text/html": [
       "<div>\n",
       "<style scoped>\n",
       "    .dataframe tbody tr th:only-of-type {\n",
       "        vertical-align: middle;\n",
       "    }\n",
       "\n",
       "    .dataframe tbody tr th {\n",
       "        vertical-align: top;\n",
       "    }\n",
       "\n",
       "    .dataframe thead th {\n",
       "        text-align: right;\n",
       "    }\n",
       "</style>\n",
       "<table border=\"1\" class=\"dataframe\">\n",
       "  <thead>\n",
       "    <tr style=\"text-align: right;\">\n",
       "      <th></th>\n",
       "      <th>Category</th>\n",
       "      <th>Species</th>\n",
       "      <th>Weight</th>\n",
       "      <th>Height</th>\n",
       "      <th>Width</th>\n",
       "      <th>Length1</th>\n",
       "      <th>Length2</th>\n",
       "      <th>Length3</th>\n",
       "    </tr>\n",
       "  </thead>\n",
       "  <tbody>\n",
       "    <tr>\n",
       "      <th>0</th>\n",
       "      <td>1</td>\n",
       "      <td>Bream</td>\n",
       "      <td>242.0</td>\n",
       "      <td>11.5200</td>\n",
       "      <td>4.0200</td>\n",
       "      <td>23.2</td>\n",
       "      <td>25.4</td>\n",
       "      <td>30.0</td>\n",
       "    </tr>\n",
       "    <tr>\n",
       "      <th>1</th>\n",
       "      <td>1</td>\n",
       "      <td>Bream</td>\n",
       "      <td>290.0</td>\n",
       "      <td>12.4800</td>\n",
       "      <td>4.3056</td>\n",
       "      <td>24.0</td>\n",
       "      <td>26.3</td>\n",
       "      <td>31.2</td>\n",
       "    </tr>\n",
       "    <tr>\n",
       "      <th>2</th>\n",
       "      <td>1</td>\n",
       "      <td>Bream</td>\n",
       "      <td>340.0</td>\n",
       "      <td>12.3778</td>\n",
       "      <td>4.6961</td>\n",
       "      <td>23.9</td>\n",
       "      <td>26.5</td>\n",
       "      <td>31.1</td>\n",
       "    </tr>\n",
       "    <tr>\n",
       "      <th>3</th>\n",
       "      <td>1</td>\n",
       "      <td>Bream</td>\n",
       "      <td>363.0</td>\n",
       "      <td>12.7300</td>\n",
       "      <td>4.4555</td>\n",
       "      <td>26.3</td>\n",
       "      <td>29.0</td>\n",
       "      <td>33.5</td>\n",
       "    </tr>\n",
       "    <tr>\n",
       "      <th>4</th>\n",
       "      <td>1</td>\n",
       "      <td>Bream</td>\n",
       "      <td>430.0</td>\n",
       "      <td>12.4440</td>\n",
       "      <td>5.1340</td>\n",
       "      <td>26.5</td>\n",
       "      <td>29.0</td>\n",
       "      <td>34.0</td>\n",
       "    </tr>\n",
       "  </tbody>\n",
       "</table>\n",
       "</div>"
      ],
      "text/plain": [
       "   Category Species  Weight   Height   Width  Length1  Length2  Length3\n",
       "0         1   Bream   242.0  11.5200  4.0200     23.2     25.4     30.0\n",
       "1         1   Bream   290.0  12.4800  4.3056     24.0     26.3     31.2\n",
       "2         1   Bream   340.0  12.3778  4.6961     23.9     26.5     31.1\n",
       "3         1   Bream   363.0  12.7300  4.4555     26.3     29.0     33.5\n",
       "4         1   Bream   430.0  12.4440  5.1340     26.5     29.0     34.0"
      ]
     },
     "execution_count": 3,
     "metadata": {},
     "output_type": "execute_result"
    }
   ],
   "source": [
    "w.head()"
   ]
  },
  {
   "cell_type": "code",
   "execution_count": 4,
   "id": "fd96a473",
   "metadata": {
    "execution": {
     "iopub.execute_input": "2024-05-24T08:12:47.620160Z",
     "iopub.status.busy": "2024-05-24T08:12:47.619648Z",
     "iopub.status.idle": "2024-05-24T08:12:47.628530Z",
     "shell.execute_reply": "2024-05-24T08:12:47.626870Z"
    },
    "papermill": {
     "duration": 0.019039,
     "end_time": "2024-05-24T08:12:47.631288",
     "exception": false,
     "start_time": "2024-05-24T08:12:47.612249",
     "status": "completed"
    },
    "tags": []
   },
   "outputs": [
    {
     "data": {
      "text/plain": [
       "Index(['Category', 'Species', 'Weight', 'Height', 'Width', 'Length1',\n",
       "       'Length2', 'Length3'],\n",
       "      dtype='object')"
      ]
     },
     "execution_count": 4,
     "metadata": {},
     "output_type": "execute_result"
    }
   ],
   "source": [
    "w.columns"
   ]
  },
  {
   "cell_type": "code",
   "execution_count": 5,
   "id": "3a5452ce",
   "metadata": {
    "execution": {
     "iopub.execute_input": "2024-05-24T08:12:47.646226Z",
     "iopub.status.busy": "2024-05-24T08:12:47.645332Z",
     "iopub.status.idle": "2024-05-24T08:12:47.658024Z",
     "shell.execute_reply": "2024-05-24T08:12:47.656964Z"
    },
    "papermill": {
     "duration": 0.024445,
     "end_time": "2024-05-24T08:12:47.661817",
     "exception": false,
     "start_time": "2024-05-24T08:12:47.637372",
     "status": "completed"
    },
    "tags": []
   },
   "outputs": [],
   "source": [
    "y=w['Weight']\n",
    "X=w[['Category','Height', 'Width', 'Length1','Length2', 'Length3']]"
   ]
  },
  {
   "cell_type": "code",
   "execution_count": 6,
   "id": "fd612f08",
   "metadata": {
    "execution": {
     "iopub.execute_input": "2024-05-24T08:12:47.678141Z",
     "iopub.status.busy": "2024-05-24T08:12:47.677263Z",
     "iopub.status.idle": "2024-05-24T08:12:49.049174Z",
     "shell.execute_reply": "2024-05-24T08:12:49.047843Z"
    },
    "papermill": {
     "duration": 1.383654,
     "end_time": "2024-05-24T08:12:49.052451",
     "exception": false,
     "start_time": "2024-05-24T08:12:47.668797",
     "status": "completed"
    },
    "tags": []
   },
   "outputs": [],
   "source": [
    "from sklearn.model_selection import train_test_split"
   ]
  },
  {
   "cell_type": "code",
   "execution_count": 7,
   "id": "c50ef0a4",
   "metadata": {
    "execution": {
     "iopub.execute_input": "2024-05-24T08:12:49.066817Z",
     "iopub.status.busy": "2024-05-24T08:12:49.066367Z",
     "iopub.status.idle": "2024-05-24T08:12:49.078490Z",
     "shell.execute_reply": "2024-05-24T08:12:49.077289Z"
    },
    "papermill": {
     "duration": 0.022263,
     "end_time": "2024-05-24T08:12:49.080898",
     "exception": false,
     "start_time": "2024-05-24T08:12:49.058635",
     "status": "completed"
    },
    "tags": []
   },
   "outputs": [],
   "source": [
    "X_train,X_test,y_train,y_test=train_test_split(X,y,train_size=0.7,random_state=42)"
   ]
  },
  {
   "cell_type": "code",
   "execution_count": 8,
   "id": "c39c920f",
   "metadata": {
    "execution": {
     "iopub.execute_input": "2024-05-24T08:12:49.096088Z",
     "iopub.status.busy": "2024-05-24T08:12:49.095312Z",
     "iopub.status.idle": "2024-05-24T08:12:49.203556Z",
     "shell.execute_reply": "2024-05-24T08:12:49.202263Z"
    },
    "papermill": {
     "duration": 0.119202,
     "end_time": "2024-05-24T08:12:49.206486",
     "exception": false,
     "start_time": "2024-05-24T08:12:49.087284",
     "status": "completed"
    },
    "tags": []
   },
   "outputs": [],
   "source": [
    "from sklearn.linear_model import LinearRegression"
   ]
  },
  {
   "cell_type": "code",
   "execution_count": 9,
   "id": "87dacdf5",
   "metadata": {
    "execution": {
     "iopub.execute_input": "2024-05-24T08:12:49.220591Z",
     "iopub.status.busy": "2024-05-24T08:12:49.220201Z",
     "iopub.status.idle": "2024-05-24T08:12:49.225400Z",
     "shell.execute_reply": "2024-05-24T08:12:49.224201Z"
    },
    "papermill": {
     "duration": 0.01514,
     "end_time": "2024-05-24T08:12:49.227948",
     "exception": false,
     "start_time": "2024-05-24T08:12:49.212808",
     "status": "completed"
    },
    "tags": []
   },
   "outputs": [],
   "source": [
    "model=LinearRegression()"
   ]
  },
  {
   "cell_type": "code",
   "execution_count": 10,
   "id": "1314ac8d",
   "metadata": {
    "execution": {
     "iopub.execute_input": "2024-05-24T08:12:49.241915Z",
     "iopub.status.busy": "2024-05-24T08:12:49.241415Z",
     "iopub.status.idle": "2024-05-24T08:12:49.273263Z",
     "shell.execute_reply": "2024-05-24T08:12:49.272330Z"
    },
    "papermill": {
     "duration": 0.041834,
     "end_time": "2024-05-24T08:12:49.275833",
     "exception": false,
     "start_time": "2024-05-24T08:12:49.233999",
     "status": "completed"
    },
    "tags": []
   },
   "outputs": [
    {
     "data": {
      "text/html": [
       "<style>#sk-container-id-1 {color: black;background-color: white;}#sk-container-id-1 pre{padding: 0;}#sk-container-id-1 div.sk-toggleable {background-color: white;}#sk-container-id-1 label.sk-toggleable__label {cursor: pointer;display: block;width: 100%;margin-bottom: 0;padding: 0.3em;box-sizing: border-box;text-align: center;}#sk-container-id-1 label.sk-toggleable__label-arrow:before {content: \"▸\";float: left;margin-right: 0.25em;color: #696969;}#sk-container-id-1 label.sk-toggleable__label-arrow:hover:before {color: black;}#sk-container-id-1 div.sk-estimator:hover label.sk-toggleable__label-arrow:before {color: black;}#sk-container-id-1 div.sk-toggleable__content {max-height: 0;max-width: 0;overflow: hidden;text-align: left;background-color: #f0f8ff;}#sk-container-id-1 div.sk-toggleable__content pre {margin: 0.2em;color: black;border-radius: 0.25em;background-color: #f0f8ff;}#sk-container-id-1 input.sk-toggleable__control:checked~div.sk-toggleable__content {max-height: 200px;max-width: 100%;overflow: auto;}#sk-container-id-1 input.sk-toggleable__control:checked~label.sk-toggleable__label-arrow:before {content: \"▾\";}#sk-container-id-1 div.sk-estimator input.sk-toggleable__control:checked~label.sk-toggleable__label {background-color: #d4ebff;}#sk-container-id-1 div.sk-label input.sk-toggleable__control:checked~label.sk-toggleable__label {background-color: #d4ebff;}#sk-container-id-1 input.sk-hidden--visually {border: 0;clip: rect(1px 1px 1px 1px);clip: rect(1px, 1px, 1px, 1px);height: 1px;margin: -1px;overflow: hidden;padding: 0;position: absolute;width: 1px;}#sk-container-id-1 div.sk-estimator {font-family: monospace;background-color: #f0f8ff;border: 1px dotted black;border-radius: 0.25em;box-sizing: border-box;margin-bottom: 0.5em;}#sk-container-id-1 div.sk-estimator:hover {background-color: #d4ebff;}#sk-container-id-1 div.sk-parallel-item::after {content: \"\";width: 100%;border-bottom: 1px solid gray;flex-grow: 1;}#sk-container-id-1 div.sk-label:hover label.sk-toggleable__label {background-color: #d4ebff;}#sk-container-id-1 div.sk-serial::before {content: \"\";position: absolute;border-left: 1px solid gray;box-sizing: border-box;top: 0;bottom: 0;left: 50%;z-index: 0;}#sk-container-id-1 div.sk-serial {display: flex;flex-direction: column;align-items: center;background-color: white;padding-right: 0.2em;padding-left: 0.2em;position: relative;}#sk-container-id-1 div.sk-item {position: relative;z-index: 1;}#sk-container-id-1 div.sk-parallel {display: flex;align-items: stretch;justify-content: center;background-color: white;position: relative;}#sk-container-id-1 div.sk-item::before, #sk-container-id-1 div.sk-parallel-item::before {content: \"\";position: absolute;border-left: 1px solid gray;box-sizing: border-box;top: 0;bottom: 0;left: 50%;z-index: -1;}#sk-container-id-1 div.sk-parallel-item {display: flex;flex-direction: column;z-index: 1;position: relative;background-color: white;}#sk-container-id-1 div.sk-parallel-item:first-child::after {align-self: flex-end;width: 50%;}#sk-container-id-1 div.sk-parallel-item:last-child::after {align-self: flex-start;width: 50%;}#sk-container-id-1 div.sk-parallel-item:only-child::after {width: 0;}#sk-container-id-1 div.sk-dashed-wrapped {border: 1px dashed gray;margin: 0 0.4em 0.5em 0.4em;box-sizing: border-box;padding-bottom: 0.4em;background-color: white;}#sk-container-id-1 div.sk-label label {font-family: monospace;font-weight: bold;display: inline-block;line-height: 1.2em;}#sk-container-id-1 div.sk-label-container {text-align: center;}#sk-container-id-1 div.sk-container {/* jupyter's `normalize.less` sets `[hidden] { display: none; }` but bootstrap.min.css set `[hidden] { display: none !important; }` so we also need the `!important` here to be able to override the default hidden behavior on the sphinx rendered scikit-learn.org. See: https://github.com/scikit-learn/scikit-learn/issues/21755 */display: inline-block !important;position: relative;}#sk-container-id-1 div.sk-text-repr-fallback {display: none;}</style><div id=\"sk-container-id-1\" class=\"sk-top-container\"><div class=\"sk-text-repr-fallback\"><pre>LinearRegression()</pre><b>In a Jupyter environment, please rerun this cell to show the HTML representation or trust the notebook. <br />On GitHub, the HTML representation is unable to render, please try loading this page with nbviewer.org.</b></div><div class=\"sk-container\" hidden><div class=\"sk-item\"><div class=\"sk-estimator sk-toggleable\"><input class=\"sk-toggleable__control sk-hidden--visually\" id=\"sk-estimator-id-1\" type=\"checkbox\" checked><label for=\"sk-estimator-id-1\" class=\"sk-toggleable__label sk-toggleable__label-arrow\">LinearRegression</label><div class=\"sk-toggleable__content\"><pre>LinearRegression()</pre></div></div></div></div></div>"
      ],
      "text/plain": [
       "LinearRegression()"
      ]
     },
     "execution_count": 10,
     "metadata": {},
     "output_type": "execute_result"
    }
   ],
   "source": [
    "model.fit(X_train,y_train)"
   ]
  },
  {
   "cell_type": "code",
   "execution_count": 11,
   "id": "9059fd38",
   "metadata": {
    "execution": {
     "iopub.execute_input": "2024-05-24T08:12:49.290670Z",
     "iopub.status.busy": "2024-05-24T08:12:49.289875Z",
     "iopub.status.idle": "2024-05-24T08:12:49.296992Z",
     "shell.execute_reply": "2024-05-24T08:12:49.296058Z"
    },
    "papermill": {
     "duration": 0.017435,
     "end_time": "2024-05-24T08:12:49.299380",
     "exception": false,
     "start_time": "2024-05-24T08:12:49.281945",
     "status": "completed"
    },
    "tags": []
   },
   "outputs": [],
   "source": [
    "y_pred = model.predict(X_test)\n"
   ]
  },
  {
   "cell_type": "code",
   "execution_count": 12,
   "id": "9490e37f",
   "metadata": {
    "execution": {
     "iopub.execute_input": "2024-05-24T08:12:49.314623Z",
     "iopub.status.busy": "2024-05-24T08:12:49.313869Z",
     "iopub.status.idle": "2024-05-24T08:12:49.318378Z",
     "shell.execute_reply": "2024-05-24T08:12:49.317568Z"
    },
    "papermill": {
     "duration": 0.014819,
     "end_time": "2024-05-24T08:12:49.320554",
     "exception": false,
     "start_time": "2024-05-24T08:12:49.305735",
     "status": "completed"
    },
    "tags": []
   },
   "outputs": [],
   "source": [
    "from sklearn.metrics import mean_absolute_error, r2_score"
   ]
  },
  {
   "cell_type": "code",
   "execution_count": 13,
   "id": "90f1979e",
   "metadata": {
    "execution": {
     "iopub.execute_input": "2024-05-24T08:12:49.335601Z",
     "iopub.status.busy": "2024-05-24T08:12:49.334764Z",
     "iopub.status.idle": "2024-05-24T08:12:49.343413Z",
     "shell.execute_reply": "2024-05-24T08:12:49.342372Z"
    },
    "papermill": {
     "duration": 0.019365,
     "end_time": "2024-05-24T08:12:49.346103",
     "exception": false,
     "start_time": "2024-05-24T08:12:49.326738",
     "status": "completed"
    },
    "tags": []
   },
   "outputs": [
    {
     "data": {
      "text/plain": [
       "90.35687780468014"
      ]
     },
     "execution_count": 13,
     "metadata": {},
     "output_type": "execute_result"
    }
   ],
   "source": [
    "mean_absolute_error(y_test,y_pred)"
   ]
  },
  {
   "cell_type": "code",
   "execution_count": 14,
   "id": "4173256e",
   "metadata": {
    "execution": {
     "iopub.execute_input": "2024-05-24T08:12:49.360537Z",
     "iopub.status.busy": "2024-05-24T08:12:49.360152Z",
     "iopub.status.idle": "2024-05-24T08:12:49.368427Z",
     "shell.execute_reply": "2024-05-24T08:12:49.367567Z"
    },
    "papermill": {
     "duration": 0.017995,
     "end_time": "2024-05-24T08:12:49.370464",
     "exception": false,
     "start_time": "2024-05-24T08:12:49.352469",
     "status": "completed"
    },
    "tags": []
   },
   "outputs": [
    {
     "data": {
      "text/plain": [
       "0.8854038212498816"
      ]
     },
     "execution_count": 14,
     "metadata": {},
     "output_type": "execute_result"
    }
   ],
   "source": [
    "r2_score(y_test,y_pred)"
   ]
  }
 ],
 "metadata": {
  "kaggle": {
   "accelerator": "none",
   "dataSources": [
    {
     "datasetId": 4365501,
     "sourceId": 7497217,
     "sourceType": "datasetVersion"
    }
   ],
   "dockerImageVersionId": 30698,
   "isGpuEnabled": false,
   "isInternetEnabled": true,
   "language": "python",
   "sourceType": "notebook"
  },
  "kernelspec": {
   "display_name": "Python 3",
   "language": "python",
   "name": "python3"
  },
  "language_info": {
   "codemirror_mode": {
    "name": "ipython",
    "version": 3
   },
   "file_extension": ".py",
   "mimetype": "text/x-python",
   "name": "python",
   "nbconvert_exporter": "python",
   "pygments_lexer": "ipython3",
   "version": "3.10.13"
  },
  "papermill": {
   "default_parameters": {},
   "duration": 7.029125,
   "end_time": "2024-05-24T08:12:50.301846",
   "environment_variables": {},
   "exception": null,
   "input_path": "__notebook__.ipynb",
   "output_path": "__notebook__.ipynb",
   "parameters": {},
   "start_time": "2024-05-24T08:12:43.272721",
   "version": "2.5.0"
  }
 },
 "nbformat": 4,
 "nbformat_minor": 5
}
